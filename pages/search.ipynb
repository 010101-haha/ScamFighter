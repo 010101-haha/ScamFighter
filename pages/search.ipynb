{
 "cells": [
  {
   "cell_type": "code",
   "execution_count": 15,
   "metadata": {},
   "outputs": [],
   "source": [
    "import sys\n",
    "import requests\n",
    "import io\n",
    "import os\n",
    "import streamlit as st\n",
    "import streamlit.components.v1 as components\n",
    "import pandas as pd \n",
    "import datetime\n",
    "from typing import Any, List\n",
    "import csv\n",
    "from pathlib import Path\n",
    "\n",
    "\n",
    "## Get current directory path\n",
    "current_dir =os.getcwd()\n",
    "filename='ETH_wallet_summary.csv'\n",
    "search_filePath= Path(current_dir).parent/'db'\n",
    "search_fileName= search_filePath/filename"
   ]
  },
  {
   "cell_type": "code",
   "execution_count": 17,
   "metadata": {},
   "outputs": [],
   "source": [
    "import re\n",
    "def detect_crypto(address):\n",
    "    if address:\n",
    "        # Bitcoin addresses start with 1 or 3 or bc1, and are 26-35 characters long\n",
    "        if re.match('^(1|3)[a-km-zA-HJ-NP-Z1-9]{25,34}$', address) or re.match('^bc1[a-zA-HJ-NP-Za-km-z]{25,39}$', address):\n",
    "            return 'BTC'\n",
    "\n",
    "        # Ethereum addresses start with 0x and are 40-42 characters long (0x is optional - this is done by adding '?')\n",
    "            ### if it is not optional, code look like this: # Ethereum addresses start with 0x and are 42 characters long\n",
    "            ###elif re.match('^0x[a-fA-F0-9]{40}$', address):\n",
    "        elif re.match('^(0x)?[a-fA-F0-9]{40}$', address):\n",
    "            return 'ETH-USDT'\n",
    "\n",
    "        # Litecoin addresses start with L or M, and are 26-34 characters long\n",
    "        elif re.match('^(L|M)[a-km-zA-HJ-NP-Z1-9]{25,34}$', address) or re.match('^ltc1[a-zA-HJ-NP-Za-km-z]{25,39}$', address):\n",
    "            return 'Litecoin'\n",
    "\n",
    "        # TRON and USDT-TRON addresses start with T, and are 34 characters long\n",
    "        elif re.match('^T[a-km-zA-HJ-NP-Z1-9]{33}$', address):\n",
    "            # Assuming that we cannot differentiate between TRON and USDT on TRON\n",
    "            return 'TRON_USDT-TRN'\n",
    "\n",
    "        else:\n",
    "            return 'Unknown'\n",
    "    else:\n",
    "        return \"Unknown\"\n",
    "\n",
    "def search_wallet(search_fileName, query, column_index):\n",
    "    results = []\n",
    "    with open(search_fileName, 'r') as file:\n",
    "        reader = csv.reader(file)\n",
    "        #headers = next(reader)  # Get the header\n",
    "        #results.append(headers) # Add the header to results\n",
    "        for row in reader:  # Now 'row' is a list of values\n",
    "            if query.lower() in row[column_index].lower():\n",
    "                results.append(row)\n",
    "    return results\n",
    "\n"
   ]
  },
  {
   "cell_type": "code",
   "execution_count": 20,
   "metadata": {},
   "outputs": [
    {
     "data": {
      "text/plain": [
       "'Unknown'"
      ]
     },
     "execution_count": 20,
     "metadata": {},
     "output_type": "execute_result"
    }
   ],
   "source": [
    "r= detect_crypto('ede26ccc85ae521d06b5ef2604952a421c9124b6')\n",
    "r"
   ]
  },
  {
   "cell_type": "code",
   "execution_count": 14,
   "metadata": {},
   "outputs": [
    {
     "name": "stderr",
     "output_type": "stream",
     "text": [
      "2023-06-25 14:33:06.869 \n",
      "  \u001b[33m\u001b[1mWarning:\u001b[0m to view this Streamlit app on a browser, run it with the following\n",
      "  command:\n",
      "\n",
      "    streamlit run c:\\Users\\Sylvia\\anaconda3\\lib\\site-packages\\ipykernel_launcher.py [ARGUMENTS]\n"
     ]
    }
   ],
   "source": [
    "st.title('Search Crytocurrency Wallet')\n",
    "\n",
    "query = st.text_input('Enter the wallet address to search:')\n",
    "if st.button('Search'):\n",
    "    if  query:\n",
    "        wallet_type = detect_crypto(query)\n",
    "        if wallet_type=='BTC':\n",
    "            results = search_wallet(search_fileName, query,0)\n",
    "            if results:\n",
    "                for result in results:\n",
    "                    st.write(result)\n",
    "            else:\n",
    "                st.write('No results found.')\n",
    "        else:\n",
    "                st.write('No results found.')\n",
    "    else:\n",
    "        st.write('Please enter a search value.')"
   ]
  }
 ],
 "metadata": {
  "kernelspec": {
   "display_name": "base",
   "language": "python",
   "name": "python3"
  },
  "language_info": {
   "codemirror_mode": {
    "name": "ipython",
    "version": 3
   },
   "file_extension": ".py",
   "mimetype": "text/x-python",
   "name": "python",
   "nbconvert_exporter": "python",
   "pygments_lexer": "ipython3",
   "version": "3.8.8"
  },
  "orig_nbformat": 4
 },
 "nbformat": 4,
 "nbformat_minor": 2
}
